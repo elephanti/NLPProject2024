{
 "cells": [
  {
   "cell_type": "markdown",
   "metadata": {
    "colab_type": "text",
    "id": "view-in-github"
   },
   "source": [
    "<a href=\"https://colab.research.google.com/github/elephanti/NLPProject2024/blob/main/Dataset_Processing.ipynb\" target=\"_parent\"><img src=\"https://colab.research.google.com/assets/colab-badge.svg\" alt=\"Open In Colab\"/></a>"
   ]
  },
  {
   "cell_type": "markdown",
   "metadata": {
    "id": "mOxcZe2qShLz"
   },
   "source": [
    "# Load Datasets"
   ]
  },
  {
   "cell_type": "code",
   "execution_count": 10,
   "metadata": {
    "id": "gU7M8cfpCMk_"
   },
   "outputs": [
    {
     "data": {
      "text/plain": [
       "True"
      ]
     },
     "execution_count": 10,
     "metadata": {},
     "output_type": "execute_result"
    }
   ],
   "source": [
    "import pickle\n",
    "import os\n",
    "from sklearn.model_selection import train_test_split\n",
    "import pandas as pd\n",
    "from openai import AzureOpenAI\n",
    "import random\n",
    "import json\n",
    "from dotenv import load_dotenv\n",
    "\n",
    "load_dotenv()"
   ]
  },
  {
   "cell_type": "markdown",
   "metadata": {
    "id": "L5VPOQNhZlWa"
   },
   "source": [
    "## Utils"
   ]
  },
  {
   "cell_type": "code",
   "execution_count": 3,
   "metadata": {
    "id": "T7TifQnWTTxT"
   },
   "outputs": [],
   "source": [
    "def sample_subset(df, n):\n",
    "    \"\"\"\n",
    "    Given a dataframe with label, text and description columns,\n",
    "    samples up to n samples for each label to a subset of the dataset.\n",
    "    \"\"\"\n",
    "    return df.groupby('label').apply(lambda x: x.sample(n=min(n, len(x)))).reset_index(drop=True)\n",
    "\n",
    "def create_json_from_df(df, n):\n",
    "    json_list = []\n",
    "    \n",
    "    grouped = df.groupby('label')\n",
    "    \n",
    "    for label, group in grouped:\n",
    "        texts = group['text'].tolist()\n",
    "        \n",
    "        selected_texts = random.sample(texts, min(n, len(texts)))\n",
    "        \n",
    "        json_dict = {'intent': label}\n",
    "        \n",
    "        for i, text in enumerate(selected_texts, 1):\n",
    "            key = f'example_{i}'\n",
    "            json_dict[key] = text\n",
    "        \n",
    "        json_list.append(json_dict)\n",
    "    \n",
    "    json_output = json.dumps(json_list, indent=4)\n",
    "    \n",
    "    return json_output\n"
   ]
  },
  {
   "cell_type": "markdown",
   "metadata": {
    "id": "_K7JbyCATFme"
   },
   "source": [
    "## ATIS"
   ]
  },
  {
   "cell_type": "markdown",
   "metadata": {
    "id": "jMYCMeyAAjuU"
   },
   "source": [
    "Pickle files can be downloaded from https://www.kaggle.com/code/siddhadev/atis-dataset-from-ms-cntk"
   ]
  },
  {
   "cell_type": "code",
   "execution_count": 4,
   "metadata": {
    "colab": {
     "base_uri": "https://localhost:8080/"
    },
    "id": "kh4Y4msHDALG",
    "outputId": "832e2776-fb7e-4185-c356-81ba980a8a74"
   },
   "outputs": [
    {
     "name": "stdout",
     "output_type": "stream",
     "text": [
      "zsh:1: command not found: wget\n",
      "zsh:1: command not found: wget\n"
     ]
    }
   ],
   "source": [
    "!wget https://github.com/elephanti/NLPProject2024/raw/main/atis.test.pkl -P inputs/ATIS\n",
    "!wget https://github.com/elephanti/NLPProject2024/raw/main/atis.train.pkl -P inputs/ATIS"
   ]
  },
  {
   "cell_type": "markdown",
   "metadata": {
    "id": "DALgAqJqTJlL"
   },
   "source": [
    "### Load dataset"
   ]
  },
  {
   "cell_type": "code",
   "execution_count": 5,
   "metadata": {
    "id": "-pWe4VDKQMQC"
   },
   "outputs": [],
   "source": [
    "def load_atis(fname, exclude_joint_categories=False):\n",
    "    with open(fname, 'rb') as stream:\n",
    "        ds,dicts = pickle.load(stream)\n",
    "    print('Done  loading: ', fname)\n",
    "    print('      samples: {:4d}'.format(len(ds['query'])))\n",
    "    print('   vocab_size: {:4d}'.format(len(dicts['token_ids'])))\n",
    "    print('   slot count: {:4d}'.format(len(dicts['slot_ids'])))\n",
    "    print(' intent count: {:4d}'.format(len(dicts['intent_ids'])))\n",
    "\n",
    "    t2i, s2i, in2i = map(dicts.get, ['token_ids', 'slot_ids','intent_ids'])\n",
    "    i2t, i2s, i2in = map(lambda d: {d[k]:k for k in d.keys()}, [t2i,s2i,in2i])\n",
    "    query, slots, intent =  map(ds.get, ['query', 'slot_labels', 'intent_labels'])\n",
    "\n",
    "    samples = []\n",
    "\n",
    "    for i in range(len(query)):\n",
    "        label = i2in[intent[i][0]]\n",
    "\n",
    "        if exclude_joint_categories and \"+\" in label:\n",
    "            continue\n",
    "        text = list(map(i2t.get, query[i]))\n",
    "\n",
    "        # Filter BOS and EOS\n",
    "        if text[0] == 'BOS' and text[-1] == 'EOS':\n",
    "            text = text[1:-1]\n",
    "\n",
    "        samples.append({\n",
    "            \"label\": label,\n",
    "            \"text\": ' '.join(text),\n",
    "            \"description\": None\n",
    "        })\n",
    "\n",
    "    # save samples csv\n",
    "    df = pd.DataFrame(samples)\n",
    "    return df"
   ]
  },
  {
   "cell_type": "code",
   "execution_count": 11,
   "metadata": {},
   "outputs": [],
   "source": [
    "def description_generator(data, n_data_examples=1):\n",
    "  OPENAI_ENDPOINT = os.environ.get(\"OPENAI_ENDPOINT\")\n",
    "  OPENAI_API_KEY = os.environ.get(\"OPENAI_API_KEY\")\n",
    "  OPENAI_DEPLOYMENT = os.environ.get(\"OPENAI_DEPLOYMENT\")\n",
    "\n",
    "  client = AzureOpenAI(\n",
    "    azure_endpoint=OPENAI_ENDPOINT,\n",
    "    api_key=OPENAI_API_KEY,\n",
    "    api_version=\"2024-02-15-preview\"\n",
    "  )\n",
    "\n",
    "  data_json = create_json_from_df(data, n_data_examples)\n",
    "\n",
    "  system_message = f\"\"\"\n",
    "    You need to create an intent descriptions for each intent with provided sentence examples from the 'Data' below.\n",
    "    Use your knowled the intent examples to create the description.\n",
    "\n",
    "    Data: {data_json}.\n",
    "\n",
    "    The output needs to be just a json where the key is the intent and the value is the description.\n",
    "\n",
    "    Please provide only the json output without any comments.\n",
    "    \"\"\"\n",
    "\n",
    "  response = client.chat.completions.create(\n",
    "      model=OPENAI_DEPLOYMENT,\n",
    "      temperature=0,\n",
    "      seed=42,\n",
    "      max_tokens=4095,\n",
    "      messages=[\n",
    "          {\"role\": \"system\", \"content\": system_message}\n",
    "      ]\n",
    "  )\n",
    "\n",
    "  descriptions = response.choices[0].message.content\n",
    "  descriptions = descriptions.replace('```', '')\n",
    "  descriptions = descriptions.replace('json', '')\n",
    "\n",
    "  return json.loads(descriptions)"
   ]
  },
  {
   "cell_type": "code",
   "execution_count": 12,
   "metadata": {
    "colab": {
     "base_uri": "https://localhost:8080/"
    },
    "id": "B3hEpnC7R6Jd",
    "outputId": "0b35df3c-9c67-4ff3-9ecb-71769c6efbff"
   },
   "outputs": [
    {
     "name": "stdout",
     "output_type": "stream",
     "text": [
      "Done  loading:  inputs/ATIS/atis.train.pkl\n",
      "      samples: 4978\n",
      "   vocab_size:  943\n",
      "   slot count:  129\n",
      " intent count:   26\n",
      "Done  loading:  inputs/ATIS/atis.test.pkl\n",
      "      samples:  893\n",
      "   vocab_size:  943\n",
      "   slot count:  129\n",
      " intent count:   26\n"
     ]
    }
   ],
   "source": [
    "train_df = load_atis(os.path.join('inputs/ATIS','atis.train.pkl'), True)\n",
    "test_df = load_atis(os.path.join('inputs/ATIS','atis.test.pkl'), True)\n",
    "atis_df = pd.concat([train_df, test_df])\n",
    "\n",
    "os.makedirs('datasets/ATIS', exist_ok=True)\n",
    "atis_df.to_csv('datasets/ATIS/atis.full.csv', index=False)\n",
    "\n",
    "# add descriptions\n",
    "descriptions = description_generator(atis_df, n_data_examples=5)\n",
    "atis_df['description'] = atis_df['label'].map(descriptions)\n",
    "\n",
    "# split to train 80%, validation 10% test 10%\n",
    "atis_train_df, atis_test_df = train_test_split(atis_df, test_size=0.2)\n",
    "atis_valid_df, atis_test_df = train_test_split(atis_test_df, test_size=0.5)\n",
    "\n",
    "atis_train_df.to_csv('datasets/ATIS/atis.train.csv', index=False)\n",
    "atis_valid_df.to_csv('datasets/ATIS/atis.valid.csv', index=False)\n",
    "atis_test_df.to_csv('datasets/ATIS/atis.test.csv', index=False)"
   ]
  },
  {
   "cell_type": "code",
   "execution_count": 13,
   "metadata": {
    "colab": {
     "base_uri": "https://localhost:8080/",
     "height": 206
    },
    "id": "3wq_j0Z0Sb2z",
    "outputId": "a2fbae45-84f0-4e86-ac79-a6130d2bb48a"
   },
   "outputs": [
    {
     "data": {
      "text/html": [
       "<div>\n",
       "<style scoped>\n",
       "    .dataframe tbody tr th:only-of-type {\n",
       "        vertical-align: middle;\n",
       "    }\n",
       "\n",
       "    .dataframe tbody tr th {\n",
       "        vertical-align: top;\n",
       "    }\n",
       "\n",
       "    .dataframe thead th {\n",
       "        text-align: right;\n",
       "    }\n",
       "</style>\n",
       "<table border=\"1\" class=\"dataframe\">\n",
       "  <thead>\n",
       "    <tr style=\"text-align: right;\">\n",
       "      <th></th>\n",
       "      <th>label</th>\n",
       "      <th>text</th>\n",
       "      <th>description</th>\n",
       "    </tr>\n",
       "  </thead>\n",
       "  <tbody>\n",
       "    <tr>\n",
       "      <th>0</th>\n",
       "      <td>flight</td>\n",
       "      <td>i want to fly from boston at 838 am and arrive...</td>\n",
       "      <td>Seeking information on specific flights, inclu...</td>\n",
       "    </tr>\n",
       "    <tr>\n",
       "      <th>1</th>\n",
       "      <td>flight</td>\n",
       "      <td>what flights are available from pittsburgh to ...</td>\n",
       "      <td>Seeking information on specific flights, inclu...</td>\n",
       "    </tr>\n",
       "    <tr>\n",
       "      <th>2</th>\n",
       "      <td>flight_time</td>\n",
       "      <td>what is the arrival time in san francisco for ...</td>\n",
       "      <td>Requesting the schedule or times of flights on...</td>\n",
       "    </tr>\n",
       "    <tr>\n",
       "      <th>3</th>\n",
       "      <td>airfare</td>\n",
       "      <td>cheapest airfare from tacoma to orlando</td>\n",
       "      <td>Seeking information on the cost of flights, in...</td>\n",
       "    </tr>\n",
       "    <tr>\n",
       "      <th>4</th>\n",
       "      <td>airfare</td>\n",
       "      <td>round trip fares from pittsburgh to philadelph...</td>\n",
       "      <td>Seeking information on the cost of flights, in...</td>\n",
       "    </tr>\n",
       "  </tbody>\n",
       "</table>\n",
       "</div>"
      ],
      "text/plain": [
       "         label                                               text  \\\n",
       "0       flight  i want to fly from boston at 838 am and arrive...   \n",
       "1       flight  what flights are available from pittsburgh to ...   \n",
       "2  flight_time  what is the arrival time in san francisco for ...   \n",
       "3      airfare            cheapest airfare from tacoma to orlando   \n",
       "4      airfare  round trip fares from pittsburgh to philadelph...   \n",
       "\n",
       "                                         description  \n",
       "0  Seeking information on specific flights, inclu...  \n",
       "1  Seeking information on specific flights, inclu...  \n",
       "2  Requesting the schedule or times of flights on...  \n",
       "3  Seeking information on the cost of flights, in...  \n",
       "4  Seeking information on the cost of flights, in...  "
      ]
     },
     "execution_count": 13,
     "metadata": {},
     "output_type": "execute_result"
    }
   ],
   "source": [
    "atis_df.head()"
   ]
  },
  {
   "cell_type": "code",
   "execution_count": 14,
   "metadata": {
    "colab": {
     "base_uri": "https://localhost:8080/"
    },
    "id": "mNvnb1z0SB6U",
    "outputId": "eee1098f-569e-4164-e8a9-86d9496d1ca4"
   },
   "outputs": [
    {
     "data": {
      "text/plain": [
       "array(['flight', 'flight_time', 'airfare', 'aircraft', 'ground_service',\n",
       "       'airport', 'airline', 'distance', 'abbreviation', 'ground_fare',\n",
       "       'quantity', 'city', 'flight_no', 'capacity', 'meal', 'restriction',\n",
       "       'cheapest', 'day_name'], dtype=object)"
      ]
     },
     "execution_count": 14,
     "metadata": {},
     "output_type": "execute_result"
    }
   ],
   "source": [
    "atis_df['label'].unique()"
   ]
  },
  {
   "cell_type": "code",
   "execution_count": 15,
   "metadata": {
    "colab": {
     "base_uri": "https://localhost:8080/",
     "height": 645
    },
    "id": "RBw7PpXrSwEP",
    "outputId": "052ac1c4-0ab2-43fa-8571-5eab4d994cac"
   },
   "outputs": [
    {
     "data": {
      "text/html": [
       "<div>\n",
       "<style scoped>\n",
       "    .dataframe tbody tr th:only-of-type {\n",
       "        vertical-align: middle;\n",
       "    }\n",
       "\n",
       "    .dataframe tbody tr th {\n",
       "        vertical-align: top;\n",
       "    }\n",
       "\n",
       "    .dataframe thead th {\n",
       "        text-align: right;\n",
       "    }\n",
       "</style>\n",
       "<table border=\"1\" class=\"dataframe\">\n",
       "  <thead>\n",
       "    <tr style=\"text-align: right;\">\n",
       "      <th></th>\n",
       "      <th>text</th>\n",
       "      <th>description</th>\n",
       "    </tr>\n",
       "    <tr>\n",
       "      <th>label</th>\n",
       "      <th></th>\n",
       "      <th></th>\n",
       "    </tr>\n",
       "  </thead>\n",
       "  <tbody>\n",
       "    <tr>\n",
       "      <th>abbreviation</th>\n",
       "      <td>180</td>\n",
       "      <td>180</td>\n",
       "    </tr>\n",
       "    <tr>\n",
       "      <th>aircraft</th>\n",
       "      <td>90</td>\n",
       "      <td>90</td>\n",
       "    </tr>\n",
       "    <tr>\n",
       "      <th>airfare</th>\n",
       "      <td>471</td>\n",
       "      <td>471</td>\n",
       "    </tr>\n",
       "    <tr>\n",
       "      <th>airline</th>\n",
       "      <td>195</td>\n",
       "      <td>195</td>\n",
       "    </tr>\n",
       "    <tr>\n",
       "      <th>airport</th>\n",
       "      <td>38</td>\n",
       "      <td>38</td>\n",
       "    </tr>\n",
       "    <tr>\n",
       "      <th>capacity</th>\n",
       "      <td>37</td>\n",
       "      <td>37</td>\n",
       "    </tr>\n",
       "    <tr>\n",
       "      <th>cheapest</th>\n",
       "      <td>1</td>\n",
       "      <td>1</td>\n",
       "    </tr>\n",
       "    <tr>\n",
       "      <th>city</th>\n",
       "      <td>25</td>\n",
       "      <td>25</td>\n",
       "    </tr>\n",
       "    <tr>\n",
       "      <th>day_name</th>\n",
       "      <td>2</td>\n",
       "      <td>2</td>\n",
       "    </tr>\n",
       "    <tr>\n",
       "      <th>distance</th>\n",
       "      <td>30</td>\n",
       "      <td>30</td>\n",
       "    </tr>\n",
       "    <tr>\n",
       "      <th>flight</th>\n",
       "      <td>4298</td>\n",
       "      <td>4298</td>\n",
       "    </tr>\n",
       "    <tr>\n",
       "      <th>flight_no</th>\n",
       "      <td>20</td>\n",
       "      <td>20</td>\n",
       "    </tr>\n",
       "    <tr>\n",
       "      <th>flight_time</th>\n",
       "      <td>55</td>\n",
       "      <td>55</td>\n",
       "    </tr>\n",
       "    <tr>\n",
       "      <th>ground_fare</th>\n",
       "      <td>25</td>\n",
       "      <td>25</td>\n",
       "    </tr>\n",
       "    <tr>\n",
       "      <th>ground_service</th>\n",
       "      <td>291</td>\n",
       "      <td>291</td>\n",
       "    </tr>\n",
       "    <tr>\n",
       "      <th>meal</th>\n",
       "      <td>12</td>\n",
       "      <td>12</td>\n",
       "    </tr>\n",
       "    <tr>\n",
       "      <th>quantity</th>\n",
       "      <td>54</td>\n",
       "      <td>54</td>\n",
       "    </tr>\n",
       "    <tr>\n",
       "      <th>restriction</th>\n",
       "      <td>6</td>\n",
       "      <td>6</td>\n",
       "    </tr>\n",
       "  </tbody>\n",
       "</table>\n",
       "</div>"
      ],
      "text/plain": [
       "                text  description\n",
       "label                            \n",
       "abbreviation     180          180\n",
       "aircraft          90           90\n",
       "airfare          471          471\n",
       "airline          195          195\n",
       "airport           38           38\n",
       "capacity          37           37\n",
       "cheapest           1            1\n",
       "city              25           25\n",
       "day_name           2            2\n",
       "distance          30           30\n",
       "flight          4298         4298\n",
       "flight_no         20           20\n",
       "flight_time       55           55\n",
       "ground_fare       25           25\n",
       "ground_service   291          291\n",
       "meal              12           12\n",
       "quantity          54           54\n",
       "restriction        6            6"
      ]
     },
     "execution_count": 15,
     "metadata": {},
     "output_type": "execute_result"
    }
   ],
   "source": [
    "# Print for each intent how many samples there are\n",
    "atis_df.groupby('label').count()"
   ]
  },
  {
   "cell_type": "markdown",
   "metadata": {
    "id": "0XXsAukwS_1V"
   },
   "source": [
    "### Sample subsets\n",
    "\n"
   ]
  },
  {
   "cell_type": "code",
   "execution_count": 16,
   "metadata": {
    "id": "ET20dkjyTRU1"
   },
   "outputs": [
    {
     "name": "stderr",
     "output_type": "stream",
     "text": [
      "/var/folders/kn/l92bw5_d4d55n08j6f5cb7f80000gp/T/ipykernel_90115/4122713724.py:6: DeprecationWarning: DataFrameGroupBy.apply operated on the grouping columns. This behavior is deprecated, and in a future version of pandas the grouping columns will be excluded from the operation. Either pass `include_groups=False` to exclude the groupings or explicitly select the grouping columns after groupby to silence this warning.\n",
      "  return df.groupby('label').apply(lambda x: x.sample(n=min(n, len(x)))).reset_index(drop=True)\n",
      "/var/folders/kn/l92bw5_d4d55n08j6f5cb7f80000gp/T/ipykernel_90115/4122713724.py:6: DeprecationWarning: DataFrameGroupBy.apply operated on the grouping columns. This behavior is deprecated, and in a future version of pandas the grouping columns will be excluded from the operation. Either pass `include_groups=False` to exclude the groupings or explicitly select the grouping columns after groupby to silence this warning.\n",
      "  return df.groupby('label').apply(lambda x: x.sample(n=min(n, len(x)))).reset_index(drop=True)\n",
      "/var/folders/kn/l92bw5_d4d55n08j6f5cb7f80000gp/T/ipykernel_90115/4122713724.py:6: DeprecationWarning: DataFrameGroupBy.apply operated on the grouping columns. This behavior is deprecated, and in a future version of pandas the grouping columns will be excluded from the operation. Either pass `include_groups=False` to exclude the groupings or explicitly select the grouping columns after groupby to silence this warning.\n",
      "  return df.groupby('label').apply(lambda x: x.sample(n=min(n, len(x)))).reset_index(drop=True)\n",
      "/var/folders/kn/l92bw5_d4d55n08j6f5cb7f80000gp/T/ipykernel_90115/4122713724.py:6: DeprecationWarning: DataFrameGroupBy.apply operated on the grouping columns. This behavior is deprecated, and in a future version of pandas the grouping columns will be excluded from the operation. Either pass `include_groups=False` to exclude the groupings or explicitly select the grouping columns after groupby to silence this warning.\n",
      "  return df.groupby('label').apply(lambda x: x.sample(n=min(n, len(x)))).reset_index(drop=True)\n",
      "/var/folders/kn/l92bw5_d4d55n08j6f5cb7f80000gp/T/ipykernel_90115/4122713724.py:6: DeprecationWarning: DataFrameGroupBy.apply operated on the grouping columns. This behavior is deprecated, and in a future version of pandas the grouping columns will be excluded from the operation. Either pass `include_groups=False` to exclude the groupings or explicitly select the grouping columns after groupby to silence this warning.\n",
      "  return df.groupby('label').apply(lambda x: x.sample(n=min(n, len(x)))).reset_index(drop=True)\n",
      "/var/folders/kn/l92bw5_d4d55n08j6f5cb7f80000gp/T/ipykernel_90115/4122713724.py:6: DeprecationWarning: DataFrameGroupBy.apply operated on the grouping columns. This behavior is deprecated, and in a future version of pandas the grouping columns will be excluded from the operation. Either pass `include_groups=False` to exclude the groupings or explicitly select the grouping columns after groupby to silence this warning.\n",
      "  return df.groupby('label').apply(lambda x: x.sample(n=min(n, len(x)))).reset_index(drop=True)\n",
      "/var/folders/kn/l92bw5_d4d55n08j6f5cb7f80000gp/T/ipykernel_90115/4122713724.py:6: DeprecationWarning: DataFrameGroupBy.apply operated on the grouping columns. This behavior is deprecated, and in a future version of pandas the grouping columns will be excluded from the operation. Either pass `include_groups=False` to exclude the groupings or explicitly select the grouping columns after groupby to silence this warning.\n",
      "  return df.groupby('label').apply(lambda x: x.sample(n=min(n, len(x)))).reset_index(drop=True)\n",
      "/var/folders/kn/l92bw5_d4d55n08j6f5cb7f80000gp/T/ipykernel_90115/4122713724.py:6: DeprecationWarning: DataFrameGroupBy.apply operated on the grouping columns. This behavior is deprecated, and in a future version of pandas the grouping columns will be excluded from the operation. Either pass `include_groups=False` to exclude the groupings or explicitly select the grouping columns after groupby to silence this warning.\n",
      "  return df.groupby('label').apply(lambda x: x.sample(n=min(n, len(x)))).reset_index(drop=True)\n",
      "/var/folders/kn/l92bw5_d4d55n08j6f5cb7f80000gp/T/ipykernel_90115/4122713724.py:6: DeprecationWarning: DataFrameGroupBy.apply operated on the grouping columns. This behavior is deprecated, and in a future version of pandas the grouping columns will be excluded from the operation. Either pass `include_groups=False` to exclude the groupings or explicitly select the grouping columns after groupby to silence this warning.\n",
      "  return df.groupby('label').apply(lambda x: x.sample(n=min(n, len(x)))).reset_index(drop=True)\n",
      "/var/folders/kn/l92bw5_d4d55n08j6f5cb7f80000gp/T/ipykernel_90115/4122713724.py:6: DeprecationWarning: DataFrameGroupBy.apply operated on the grouping columns. This behavior is deprecated, and in a future version of pandas the grouping columns will be excluded from the operation. Either pass `include_groups=False` to exclude the groupings or explicitly select the grouping columns after groupby to silence this warning.\n",
      "  return df.groupby('label').apply(lambda x: x.sample(n=min(n, len(x)))).reset_index(drop=True)\n",
      "/var/folders/kn/l92bw5_d4d55n08j6f5cb7f80000gp/T/ipykernel_90115/4122713724.py:6: DeprecationWarning: DataFrameGroupBy.apply operated on the grouping columns. This behavior is deprecated, and in a future version of pandas the grouping columns will be excluded from the operation. Either pass `include_groups=False` to exclude the groupings or explicitly select the grouping columns after groupby to silence this warning.\n",
      "  return df.groupby('label').apply(lambda x: x.sample(n=min(n, len(x)))).reset_index(drop=True)\n",
      "/var/folders/kn/l92bw5_d4d55n08j6f5cb7f80000gp/T/ipykernel_90115/4122713724.py:6: DeprecationWarning: DataFrameGroupBy.apply operated on the grouping columns. This behavior is deprecated, and in a future version of pandas the grouping columns will be excluded from the operation. Either pass `include_groups=False` to exclude the groupings or explicitly select the grouping columns after groupby to silence this warning.\n",
      "  return df.groupby('label').apply(lambda x: x.sample(n=min(n, len(x)))).reset_index(drop=True)\n",
      "/var/folders/kn/l92bw5_d4d55n08j6f5cb7f80000gp/T/ipykernel_90115/4122713724.py:6: DeprecationWarning: DataFrameGroupBy.apply operated on the grouping columns. This behavior is deprecated, and in a future version of pandas the grouping columns will be excluded from the operation. Either pass `include_groups=False` to exclude the groupings or explicitly select the grouping columns after groupby to silence this warning.\n",
      "  return df.groupby('label').apply(lambda x: x.sample(n=min(n, len(x)))).reset_index(drop=True)\n",
      "/var/folders/kn/l92bw5_d4d55n08j6f5cb7f80000gp/T/ipykernel_90115/4122713724.py:6: DeprecationWarning: DataFrameGroupBy.apply operated on the grouping columns. This behavior is deprecated, and in a future version of pandas the grouping columns will be excluded from the operation. Either pass `include_groups=False` to exclude the groupings or explicitly select the grouping columns after groupby to silence this warning.\n",
      "  return df.groupby('label').apply(lambda x: x.sample(n=min(n, len(x)))).reset_index(drop=True)\n",
      "/var/folders/kn/l92bw5_d4d55n08j6f5cb7f80000gp/T/ipykernel_90115/4122713724.py:6: DeprecationWarning: DataFrameGroupBy.apply operated on the grouping columns. This behavior is deprecated, and in a future version of pandas the grouping columns will be excluded from the operation. Either pass `include_groups=False` to exclude the groupings or explicitly select the grouping columns after groupby to silence this warning.\n",
      "  return df.groupby('label').apply(lambda x: x.sample(n=min(n, len(x)))).reset_index(drop=True)\n",
      "/var/folders/kn/l92bw5_d4d55n08j6f5cb7f80000gp/T/ipykernel_90115/4122713724.py:6: DeprecationWarning: DataFrameGroupBy.apply operated on the grouping columns. This behavior is deprecated, and in a future version of pandas the grouping columns will be excluded from the operation. Either pass `include_groups=False` to exclude the groupings or explicitly select the grouping columns after groupby to silence this warning.\n",
      "  return df.groupby('label').apply(lambda x: x.sample(n=min(n, len(x)))).reset_index(drop=True)\n",
      "/var/folders/kn/l92bw5_d4d55n08j6f5cb7f80000gp/T/ipykernel_90115/4122713724.py:6: DeprecationWarning: DataFrameGroupBy.apply operated on the grouping columns. This behavior is deprecated, and in a future version of pandas the grouping columns will be excluded from the operation. Either pass `include_groups=False` to exclude the groupings or explicitly select the grouping columns after groupby to silence this warning.\n",
      "  return df.groupby('label').apply(lambda x: x.sample(n=min(n, len(x)))).reset_index(drop=True)\n",
      "/var/folders/kn/l92bw5_d4d55n08j6f5cb7f80000gp/T/ipykernel_90115/4122713724.py:6: DeprecationWarning: DataFrameGroupBy.apply operated on the grouping columns. This behavior is deprecated, and in a future version of pandas the grouping columns will be excluded from the operation. Either pass `include_groups=False` to exclude the groupings or explicitly select the grouping columns after groupby to silence this warning.\n",
      "  return df.groupby('label').apply(lambda x: x.sample(n=min(n, len(x)))).reset_index(drop=True)\n",
      "/var/folders/kn/l92bw5_d4d55n08j6f5cb7f80000gp/T/ipykernel_90115/4122713724.py:6: DeprecationWarning: DataFrameGroupBy.apply operated on the grouping columns. This behavior is deprecated, and in a future version of pandas the grouping columns will be excluded from the operation. Either pass `include_groups=False` to exclude the groupings or explicitly select the grouping columns after groupby to silence this warning.\n",
      "  return df.groupby('label').apply(lambda x: x.sample(n=min(n, len(x)))).reset_index(drop=True)\n",
      "/var/folders/kn/l92bw5_d4d55n08j6f5cb7f80000gp/T/ipykernel_90115/4122713724.py:6: DeprecationWarning: DataFrameGroupBy.apply operated on the grouping columns. This behavior is deprecated, and in a future version of pandas the grouping columns will be excluded from the operation. Either pass `include_groups=False` to exclude the groupings or explicitly select the grouping columns after groupby to silence this warning.\n",
      "  return df.groupby('label').apply(lambda x: x.sample(n=min(n, len(x)))).reset_index(drop=True)\n",
      "/var/folders/kn/l92bw5_d4d55n08j6f5cb7f80000gp/T/ipykernel_90115/4122713724.py:6: DeprecationWarning: DataFrameGroupBy.apply operated on the grouping columns. This behavior is deprecated, and in a future version of pandas the grouping columns will be excluded from the operation. Either pass `include_groups=False` to exclude the groupings or explicitly select the grouping columns after groupby to silence this warning.\n",
      "  return df.groupby('label').apply(lambda x: x.sample(n=min(n, len(x)))).reset_index(drop=True)\n",
      "/var/folders/kn/l92bw5_d4d55n08j6f5cb7f80000gp/T/ipykernel_90115/4122713724.py:6: DeprecationWarning: DataFrameGroupBy.apply operated on the grouping columns. This behavior is deprecated, and in a future version of pandas the grouping columns will be excluded from the operation. Either pass `include_groups=False` to exclude the groupings or explicitly select the grouping columns after groupby to silence this warning.\n",
      "  return df.groupby('label').apply(lambda x: x.sample(n=min(n, len(x)))).reset_index(drop=True)\n",
      "/var/folders/kn/l92bw5_d4d55n08j6f5cb7f80000gp/T/ipykernel_90115/4122713724.py:6: DeprecationWarning: DataFrameGroupBy.apply operated on the grouping columns. This behavior is deprecated, and in a future version of pandas the grouping columns will be excluded from the operation. Either pass `include_groups=False` to exclude the groupings or explicitly select the grouping columns after groupby to silence this warning.\n",
      "  return df.groupby('label').apply(lambda x: x.sample(n=min(n, len(x)))).reset_index(drop=True)\n",
      "/var/folders/kn/l92bw5_d4d55n08j6f5cb7f80000gp/T/ipykernel_90115/4122713724.py:6: DeprecationWarning: DataFrameGroupBy.apply operated on the grouping columns. This behavior is deprecated, and in a future version of pandas the grouping columns will be excluded from the operation. Either pass `include_groups=False` to exclude the groupings or explicitly select the grouping columns after groupby to silence this warning.\n",
      "  return df.groupby('label').apply(lambda x: x.sample(n=min(n, len(x)))).reset_index(drop=True)\n",
      "/var/folders/kn/l92bw5_d4d55n08j6f5cb7f80000gp/T/ipykernel_90115/4122713724.py:6: DeprecationWarning: DataFrameGroupBy.apply operated on the grouping columns. This behavior is deprecated, and in a future version of pandas the grouping columns will be excluded from the operation. Either pass `include_groups=False` to exclude the groupings or explicitly select the grouping columns after groupby to silence this warning.\n",
      "  return df.groupby('label').apply(lambda x: x.sample(n=min(n, len(x)))).reset_index(drop=True)\n"
     ]
    }
   ],
   "source": [
    "for ver in range(1, 6):\n",
    "  os.makedirs(f'datasets/ATIS/sampled_subsets/ver{ver}', exist_ok=True)\n",
    "\n",
    "  atis_5_subset = sample_subset(atis_train_df, 5)\n",
    "  atis_5_subset.to_csv(f'datasets/ATIS/sampled_subsets/ver{ver}/atis_5_subset_ver.csv', index=False)\n",
    "  atis_10_subset = sample_subset(atis_train_df, 10)\n",
    "  atis_10_subset.to_csv(f'datasets/ATIS/sampled_subsets/ver{ver}/atis_10_subset.csv', index=False)\n",
    "  atis_20_subset = sample_subset(atis_train_df, 20)\n",
    "  atis_20_subset.to_csv(f'datasets/ATIS/sampled_subsets/ver{ver}/atis_20_subset.csv', index=False)\n",
    "  atis_50_subset = sample_subset(atis_train_df, 50)\n",
    "  atis_50_subset.to_csv(f'datasets/ATIS/sampled_subsets/ver{ver}/atis_50_subset.csv', index=False)\n",
    "  atis_100_subset = sample_subset(atis_train_df, 100)\n",
    "  atis_100_subset.to_csv(f'datasets/ATIS/sampled_subsets/ver{ver}/atis_100_subset.csv', index=False)"
   ]
  },
  {
   "cell_type": "markdown",
   "metadata": {
    "id": "_wdPWCwGa2AD"
   },
   "source": [
    "## TREC"
   ]
  },
  {
   "cell_type": "markdown",
   "metadata": {
    "id": "FSkMXwUha4P7"
   },
   "source": [
    "### Load dataset"
   ]
  },
  {
   "cell_type": "code",
   "execution_count": 17,
   "metadata": {
    "colab": {
     "base_uri": "https://localhost:8080/"
    },
    "id": "_mowOSzKbjk6",
    "outputId": "0f9e2ac0-99fd-432d-f221-49a7f21b6601"
   },
   "outputs": [
    {
     "name": "stdout",
     "output_type": "stream",
     "text": [
      "zsh:1: command not found: wget\n",
      "zsh:1: command not found: wget\n",
      "zsh:1: command not found: wget\n",
      "zsh:1: command not found: wget\n",
      "zsh:1: command not found: wget\n",
      "zsh:1: command not found: wget\n"
     ]
    }
   ],
   "source": [
    "!wget https://cogcomp.seas.upenn.edu/Data/QA/QC/train_1000.label -P inputs/TREC\n",
    "!wget https://cogcomp.seas.upenn.edu/Data/QA/QC/train_2000.label -P inputs/TREC\n",
    "!wget https://cogcomp.seas.upenn.edu/Data/QA/QC/train_3000.label -P inputs/TREC\n",
    "!wget https://cogcomp.seas.upenn.edu/Data/QA/QC/train_4000.label -P inputs/TREC\n",
    "!wget https://cogcomp.seas.upenn.edu/Data/QA/QC/train_5500.label -P inputs/TREC\n",
    "!wget https://cogcomp.seas.upenn.edu/Data/QA/QC/TREC_10.label -P inputs/TREC"
   ]
  },
  {
   "cell_type": "code",
   "execution_count": 18,
   "metadata": {
    "colab": {
     "base_uri": "https://localhost:8080/",
     "height": 206
    },
    "id": "jg4ChPQ5a63i",
    "outputId": "2e1d97ea-26a1-4779-8854-c47b272bcac7"
   },
   "outputs": [
    {
     "data": {
      "text/html": [
       "<div>\n",
       "<style scoped>\n",
       "    .dataframe tbody tr th:only-of-type {\n",
       "        vertical-align: middle;\n",
       "    }\n",
       "\n",
       "    .dataframe tbody tr th {\n",
       "        vertical-align: top;\n",
       "    }\n",
       "\n",
       "    .dataframe thead th {\n",
       "        text-align: right;\n",
       "    }\n",
       "</style>\n",
       "<table border=\"1\" class=\"dataframe\">\n",
       "  <thead>\n",
       "    <tr style=\"text-align: right;\">\n",
       "      <th></th>\n",
       "      <th>label</th>\n",
       "      <th>text</th>\n",
       "      <th>description</th>\n",
       "    </tr>\n",
       "  </thead>\n",
       "  <tbody>\n",
       "    <tr>\n",
       "      <th>0</th>\n",
       "      <td>DESC:manner</td>\n",
       "      <td>How did serfdom develop in and then leave Russ...</td>\n",
       "      <td>Questions about the process or method by which...</td>\n",
       "    </tr>\n",
       "    <tr>\n",
       "      <th>1</th>\n",
       "      <td>ENTY:cremat</td>\n",
       "      <td>What films featured the character Popeye Doyle ?</td>\n",
       "      <td>Inquiries about creative works such as TV show...</td>\n",
       "    </tr>\n",
       "    <tr>\n",
       "      <th>2</th>\n",
       "      <td>DESC:manner</td>\n",
       "      <td>How can I find a list of celebrities ' real na...</td>\n",
       "      <td>Questions about the process or method by which...</td>\n",
       "    </tr>\n",
       "    <tr>\n",
       "      <th>3</th>\n",
       "      <td>ENTY:animal</td>\n",
       "      <td>What fowl grabs the spotlight after the Chines...</td>\n",
       "      <td>Questions related to animals, including their ...</td>\n",
       "    </tr>\n",
       "    <tr>\n",
       "      <th>4</th>\n",
       "      <td>ABBR:exp</td>\n",
       "      <td>What is the full form of .com ?</td>\n",
       "      <td>Inquiries about the meaning or full form of an...</td>\n",
       "    </tr>\n",
       "  </tbody>\n",
       "</table>\n",
       "</div>"
      ],
      "text/plain": [
       "         label                                               text  \\\n",
       "0  DESC:manner  How did serfdom develop in and then leave Russ...   \n",
       "1  ENTY:cremat   What films featured the character Popeye Doyle ?   \n",
       "2  DESC:manner  How can I find a list of celebrities ' real na...   \n",
       "3  ENTY:animal  What fowl grabs the spotlight after the Chines...   \n",
       "4     ABBR:exp                    What is the full form of .com ?   \n",
       "\n",
       "                                         description  \n",
       "0  Questions about the process or method by which...  \n",
       "1  Inquiries about creative works such as TV show...  \n",
       "2  Questions about the process or method by which...  \n",
       "3  Questions related to animals, including their ...  \n",
       "4  Inquiries about the meaning or full form of an...  "
      ]
     },
     "execution_count": 18,
     "metadata": {},
     "output_type": "execute_result"
    }
   ],
   "source": [
    "# Process into a df\n",
    "def load_trec(filename):\n",
    "    samples = []\n",
    "    with open(filename, 'r', encoding='windows-1252') as f:\n",
    "        for line in f:\n",
    "            label, text = line.split(' ', 1)\n",
    "            samples.append({\n",
    "                \"label\": label,\n",
    "                \"text\": text.strip(),\n",
    "                \"description\": None\n",
    "            })\n",
    "    return pd.DataFrame(samples)\n",
    "\n",
    "train_1000_df = load_trec('inputs/TREC/train_1000.label')\n",
    "train_2000_df = load_trec('inputs/TREC/train_2000.label')\n",
    "train_3000_df = load_trec('inputs/TREC/train_3000.label')\n",
    "train_4000_df = load_trec('inputs/TREC/train_4000.label')\n",
    "train_5500_df = load_trec('inputs/TREC/train_5500.label')\n",
    "test_df = load_trec('inputs/TREC/TREC_10.label')\n",
    "\n",
    "trec_df = pd.concat([train_1000_df, train_2000_df, train_3000_df, train_4000_df, train_5500_df, test_df])\n",
    "\n",
    "descriptions = description_generator(trec_df, n_data_examples=5)\n",
    "trec_df['description'] = trec_df['label'].map(descriptions)\n",
    "\n",
    "os.makedirs('datasets/TREC', exist_ok=True)\n",
    "trec_df.to_csv('datasets/TREC/trec.full.csv', index=False)\n",
    "\n",
    "# split to train 80%, validation 10% test 10%\n",
    "trec_train_df, trec_test_df = train_test_split(trec_df, test_size=0.2)\n",
    "trec_valid_df, trec_test_df = train_test_split(trec_test_df, test_size=0.5)\n",
    "\n",
    "trec_train_df.to_csv('datasets/TREC/trec.train.csv', index=False)\n",
    "trec_valid_df.to_csv('datasets/TREC/trec.valid.csv', index=False)\n",
    "trec_test_df.to_csv('datasets/TREC/trec.test.csv', index=False)\n",
    "\n",
    "trec_df.head()\n"
   ]
  },
  {
   "cell_type": "code",
   "execution_count": 19,
   "metadata": {
    "colab": {
     "base_uri": "https://localhost:8080/"
    },
    "id": "abBGXS1qdoz-",
    "outputId": "bdcd093c-4cf6-4054-e992-8d9a336b5fa6"
   },
   "outputs": [
    {
     "data": {
      "text/plain": [
       "array(['DESC:manner', 'ENTY:cremat', 'ENTY:animal', 'ABBR:exp', 'HUM:ind',\n",
       "       'HUM:gr', 'HUM:title', 'DESC:def', 'NUM:date', 'DESC:reason',\n",
       "       'ENTY:event', 'LOC:state', 'DESC:desc', 'NUM:count', 'ENTY:other',\n",
       "       'ENTY:letter', 'LOC:other', 'ENTY:religion', 'ENTY:food',\n",
       "       'LOC:country', 'ENTY:color', 'ENTY:termeq', 'LOC:city',\n",
       "       'ENTY:body', 'ENTY:dismed', 'LOC:mount', 'NUM:money',\n",
       "       'ENTY:product', 'NUM:period', 'ENTY:substance', 'ENTY:sport',\n",
       "       'ENTY:plant', 'ENTY:techmeth', 'NUM:volsize', 'HUM:desc',\n",
       "       'ENTY:instru', 'ABBR:abb', 'NUM:other', 'NUM:speed', 'ENTY:word',\n",
       "       'ENTY:lang', 'NUM:perc', 'NUM:code', 'NUM:dist', 'NUM:temp',\n",
       "       'ENTY:symbol', 'NUM:ord', 'ENTY:veh', 'NUM:weight',\n",
       "       'ENTY:currency'], dtype=object)"
      ]
     },
     "execution_count": 19,
     "metadata": {},
     "output_type": "execute_result"
    }
   ],
   "source": [
    "trec_df['label'].unique()"
   ]
  },
  {
   "cell_type": "code",
   "execution_count": 20,
   "metadata": {
    "colab": {
     "base_uri": "https://localhost:8080/",
     "height": 1000
    },
    "id": "GIdM7hgBw32Q",
    "outputId": "023684c5-833f-42b0-daa5-0049322cf2fa"
   },
   "outputs": [
    {
     "data": {
      "text/html": [
       "<div>\n",
       "<style scoped>\n",
       "    .dataframe tbody tr th:only-of-type {\n",
       "        vertical-align: middle;\n",
       "    }\n",
       "\n",
       "    .dataframe tbody tr th {\n",
       "        vertical-align: top;\n",
       "    }\n",
       "\n",
       "    .dataframe thead th {\n",
       "        text-align: right;\n",
       "    }\n",
       "</style>\n",
       "<table border=\"1\" class=\"dataframe\">\n",
       "  <thead>\n",
       "    <tr style=\"text-align: right;\">\n",
       "      <th></th>\n",
       "      <th>text</th>\n",
       "      <th>description</th>\n",
       "    </tr>\n",
       "    <tr>\n",
       "      <th>label</th>\n",
       "      <th></th>\n",
       "      <th></th>\n",
       "    </tr>\n",
       "  </thead>\n",
       "  <tbody>\n",
       "    <tr>\n",
       "      <th>ABBR:abb</th>\n",
       "      <td>47</td>\n",
       "      <td>47</td>\n",
       "    </tr>\n",
       "    <tr>\n",
       "      <th>ABBR:exp</th>\n",
       "      <td>203</td>\n",
       "      <td>203</td>\n",
       "    </tr>\n",
       "    <tr>\n",
       "      <th>DESC:def</th>\n",
       "      <td>1344</td>\n",
       "      <td>1344</td>\n",
       "    </tr>\n",
       "    <tr>\n",
       "      <th>DESC:desc</th>\n",
       "      <td>781</td>\n",
       "      <td>781</td>\n",
       "    </tr>\n",
       "    <tr>\n",
       "      <th>DESC:manner</th>\n",
       "      <td>768</td>\n",
       "      <td>768</td>\n",
       "    </tr>\n",
       "    <tr>\n",
       "      <th>DESC:reason</th>\n",
       "      <td>549</td>\n",
       "      <td>549</td>\n",
       "    </tr>\n",
       "    <tr>\n",
       "      <th>ENTY:animal</th>\n",
       "      <td>381</td>\n",
       "      <td>381</td>\n",
       "    </tr>\n",
       "    <tr>\n",
       "      <th>ENTY:body</th>\n",
       "      <td>56</td>\n",
       "      <td>56</td>\n",
       "    </tr>\n",
       "    <tr>\n",
       "      <th>ENTY:color</th>\n",
       "      <td>129</td>\n",
       "      <td>129</td>\n",
       "    </tr>\n",
       "    <tr>\n",
       "      <th>ENTY:cremat</th>\n",
       "      <td>595</td>\n",
       "      <td>595</td>\n",
       "    </tr>\n",
       "    <tr>\n",
       "      <th>ENTY:currency</th>\n",
       "      <td>12</td>\n",
       "      <td>12</td>\n",
       "    </tr>\n",
       "    <tr>\n",
       "      <th>ENTY:dismed</th>\n",
       "      <td>293</td>\n",
       "      <td>293</td>\n",
       "    </tr>\n",
       "    <tr>\n",
       "      <th>ENTY:event</th>\n",
       "      <td>175</td>\n",
       "      <td>175</td>\n",
       "    </tr>\n",
       "    <tr>\n",
       "      <th>ENTY:food</th>\n",
       "      <td>270</td>\n",
       "      <td>270</td>\n",
       "    </tr>\n",
       "    <tr>\n",
       "      <th>ENTY:instru</th>\n",
       "      <td>38</td>\n",
       "      <td>38</td>\n",
       "    </tr>\n",
       "    <tr>\n",
       "      <th>ENTY:lang</th>\n",
       "      <td>47</td>\n",
       "      <td>47</td>\n",
       "    </tr>\n",
       "    <tr>\n",
       "      <th>ENTY:letter</th>\n",
       "      <td>30</td>\n",
       "      <td>30</td>\n",
       "    </tr>\n",
       "    <tr>\n",
       "      <th>ENTY:other</th>\n",
       "      <td>640</td>\n",
       "      <td>640</td>\n",
       "    </tr>\n",
       "    <tr>\n",
       "      <th>ENTY:plant</th>\n",
       "      <td>43</td>\n",
       "      <td>43</td>\n",
       "    </tr>\n",
       "    <tr>\n",
       "      <th>ENTY:product</th>\n",
       "      <td>134</td>\n",
       "      <td>134</td>\n",
       "    </tr>\n",
       "    <tr>\n",
       "      <th>ENTY:religion</th>\n",
       "      <td>9</td>\n",
       "      <td>9</td>\n",
       "    </tr>\n",
       "    <tr>\n",
       "      <th>ENTY:sport</th>\n",
       "      <td>166</td>\n",
       "      <td>166</td>\n",
       "    </tr>\n",
       "    <tr>\n",
       "      <th>ENTY:substance</th>\n",
       "      <td>139</td>\n",
       "      <td>139</td>\n",
       "    </tr>\n",
       "    <tr>\n",
       "      <th>ENTY:symbol</th>\n",
       "      <td>31</td>\n",
       "      <td>31</td>\n",
       "    </tr>\n",
       "    <tr>\n",
       "      <th>ENTY:techmeth</th>\n",
       "      <td>112</td>\n",
       "      <td>112</td>\n",
       "    </tr>\n",
       "    <tr>\n",
       "      <th>ENTY:termeq</th>\n",
       "      <td>278</td>\n",
       "      <td>278</td>\n",
       "    </tr>\n",
       "    <tr>\n",
       "      <th>ENTY:veh</th>\n",
       "      <td>72</td>\n",
       "      <td>72</td>\n",
       "    </tr>\n",
       "    <tr>\n",
       "      <th>ENTY:word</th>\n",
       "      <td>71</td>\n",
       "      <td>71</td>\n",
       "    </tr>\n",
       "    <tr>\n",
       "      <th>HUM:desc</th>\n",
       "      <td>140</td>\n",
       "      <td>140</td>\n",
       "    </tr>\n",
       "    <tr>\n",
       "      <th>HUM:gr</th>\n",
       "      <td>535</td>\n",
       "      <td>535</td>\n",
       "    </tr>\n",
       "    <tr>\n",
       "      <th>HUM:ind</th>\n",
       "      <td>2746</td>\n",
       "      <td>2746</td>\n",
       "    </tr>\n",
       "    <tr>\n",
       "      <th>HUM:title</th>\n",
       "      <td>68</td>\n",
       "      <td>68</td>\n",
       "    </tr>\n",
       "    <tr>\n",
       "      <th>LOC:city</th>\n",
       "      <td>394</td>\n",
       "      <td>394</td>\n",
       "    </tr>\n",
       "    <tr>\n",
       "      <th>LOC:country</th>\n",
       "      <td>428</td>\n",
       "      <td>428</td>\n",
       "    </tr>\n",
       "    <tr>\n",
       "      <th>LOC:mount</th>\n",
       "      <td>70</td>\n",
       "      <td>70</td>\n",
       "    </tr>\n",
       "    <tr>\n",
       "      <th>LOC:other</th>\n",
       "      <td>1357</td>\n",
       "      <td>1357</td>\n",
       "    </tr>\n",
       "    <tr>\n",
       "      <th>LOC:state</th>\n",
       "      <td>208</td>\n",
       "      <td>208</td>\n",
       "    </tr>\n",
       "    <tr>\n",
       "      <th>NUM:code</th>\n",
       "      <td>22</td>\n",
       "      <td>22</td>\n",
       "    </tr>\n",
       "    <tr>\n",
       "      <th>NUM:count</th>\n",
       "      <td>994</td>\n",
       "      <td>994</td>\n",
       "    </tr>\n",
       "    <tr>\n",
       "      <th>NUM:date</th>\n",
       "      <td>697</td>\n",
       "      <td>697</td>\n",
       "    </tr>\n",
       "    <tr>\n",
       "      <th>NUM:dist</th>\n",
       "      <td>102</td>\n",
       "      <td>102</td>\n",
       "    </tr>\n",
       "    <tr>\n",
       "      <th>NUM:money</th>\n",
       "      <td>186</td>\n",
       "      <td>186</td>\n",
       "    </tr>\n",
       "    <tr>\n",
       "      <th>NUM:ord</th>\n",
       "      <td>15</td>\n",
       "      <td>15</td>\n",
       "    </tr>\n",
       "    <tr>\n",
       "      <th>NUM:other</th>\n",
       "      <td>166</td>\n",
       "      <td>166</td>\n",
       "    </tr>\n",
       "    <tr>\n",
       "      <th>NUM:perc</th>\n",
       "      <td>85</td>\n",
       "      <td>85</td>\n",
       "    </tr>\n",
       "    <tr>\n",
       "      <th>NUM:period</th>\n",
       "      <td>205</td>\n",
       "      <td>205</td>\n",
       "    </tr>\n",
       "    <tr>\n",
       "      <th>NUM:speed</th>\n",
       "      <td>42</td>\n",
       "      <td>42</td>\n",
       "    </tr>\n",
       "    <tr>\n",
       "      <th>NUM:temp</th>\n",
       "      <td>20</td>\n",
       "      <td>20</td>\n",
       "    </tr>\n",
       "    <tr>\n",
       "      <th>NUM:volsize</th>\n",
       "      <td>32</td>\n",
       "      <td>32</td>\n",
       "    </tr>\n",
       "    <tr>\n",
       "      <th>NUM:weight</th>\n",
       "      <td>27</td>\n",
       "      <td>27</td>\n",
       "    </tr>\n",
       "  </tbody>\n",
       "</table>\n",
       "</div>"
      ],
      "text/plain": [
       "                text  description\n",
       "label                            \n",
       "ABBR:abb          47           47\n",
       "ABBR:exp         203          203\n",
       "DESC:def        1344         1344\n",
       "DESC:desc        781          781\n",
       "DESC:manner      768          768\n",
       "DESC:reason      549          549\n",
       "ENTY:animal      381          381\n",
       "ENTY:body         56           56\n",
       "ENTY:color       129          129\n",
       "ENTY:cremat      595          595\n",
       "ENTY:currency     12           12\n",
       "ENTY:dismed      293          293\n",
       "ENTY:event       175          175\n",
       "ENTY:food        270          270\n",
       "ENTY:instru       38           38\n",
       "ENTY:lang         47           47\n",
       "ENTY:letter       30           30\n",
       "ENTY:other       640          640\n",
       "ENTY:plant        43           43\n",
       "ENTY:product     134          134\n",
       "ENTY:religion      9            9\n",
       "ENTY:sport       166          166\n",
       "ENTY:substance   139          139\n",
       "ENTY:symbol       31           31\n",
       "ENTY:techmeth    112          112\n",
       "ENTY:termeq      278          278\n",
       "ENTY:veh          72           72\n",
       "ENTY:word         71           71\n",
       "HUM:desc         140          140\n",
       "HUM:gr           535          535\n",
       "HUM:ind         2746         2746\n",
       "HUM:title         68           68\n",
       "LOC:city         394          394\n",
       "LOC:country      428          428\n",
       "LOC:mount         70           70\n",
       "LOC:other       1357         1357\n",
       "LOC:state        208          208\n",
       "NUM:code          22           22\n",
       "NUM:count        994          994\n",
       "NUM:date         697          697\n",
       "NUM:dist         102          102\n",
       "NUM:money        186          186\n",
       "NUM:ord           15           15\n",
       "NUM:other        166          166\n",
       "NUM:perc          85           85\n",
       "NUM:period       205          205\n",
       "NUM:speed         42           42\n",
       "NUM:temp          20           20\n",
       "NUM:volsize       32           32\n",
       "NUM:weight        27           27"
      ]
     },
     "execution_count": 20,
     "metadata": {},
     "output_type": "execute_result"
    }
   ],
   "source": [
    "trec_df.groupby('label').count()"
   ]
  },
  {
   "cell_type": "markdown",
   "metadata": {
    "id": "dfS31Otzwjuj"
   },
   "source": [
    "### Sample subsets"
   ]
  },
  {
   "cell_type": "code",
   "execution_count": 21,
   "metadata": {
    "id": "yGNcBUgvwmoo"
   },
   "outputs": [
    {
     "name": "stderr",
     "output_type": "stream",
     "text": [
      "/var/folders/kn/l92bw5_d4d55n08j6f5cb7f80000gp/T/ipykernel_90115/4122713724.py:6: DeprecationWarning: DataFrameGroupBy.apply operated on the grouping columns. This behavior is deprecated, and in a future version of pandas the grouping columns will be excluded from the operation. Either pass `include_groups=False` to exclude the groupings or explicitly select the grouping columns after groupby to silence this warning.\n",
      "  return df.groupby('label').apply(lambda x: x.sample(n=min(n, len(x)))).reset_index(drop=True)\n",
      "/var/folders/kn/l92bw5_d4d55n08j6f5cb7f80000gp/T/ipykernel_90115/4122713724.py:6: DeprecationWarning: DataFrameGroupBy.apply operated on the grouping columns. This behavior is deprecated, and in a future version of pandas the grouping columns will be excluded from the operation. Either pass `include_groups=False` to exclude the groupings or explicitly select the grouping columns after groupby to silence this warning.\n",
      "  return df.groupby('label').apply(lambda x: x.sample(n=min(n, len(x)))).reset_index(drop=True)\n",
      "/var/folders/kn/l92bw5_d4d55n08j6f5cb7f80000gp/T/ipykernel_90115/4122713724.py:6: DeprecationWarning: DataFrameGroupBy.apply operated on the grouping columns. This behavior is deprecated, and in a future version of pandas the grouping columns will be excluded from the operation. Either pass `include_groups=False` to exclude the groupings or explicitly select the grouping columns after groupby to silence this warning.\n",
      "  return df.groupby('label').apply(lambda x: x.sample(n=min(n, len(x)))).reset_index(drop=True)\n",
      "/var/folders/kn/l92bw5_d4d55n08j6f5cb7f80000gp/T/ipykernel_90115/4122713724.py:6: DeprecationWarning: DataFrameGroupBy.apply operated on the grouping columns. This behavior is deprecated, and in a future version of pandas the grouping columns will be excluded from the operation. Either pass `include_groups=False` to exclude the groupings or explicitly select the grouping columns after groupby to silence this warning.\n",
      "  return df.groupby('label').apply(lambda x: x.sample(n=min(n, len(x)))).reset_index(drop=True)\n",
      "/var/folders/kn/l92bw5_d4d55n08j6f5cb7f80000gp/T/ipykernel_90115/4122713724.py:6: DeprecationWarning: DataFrameGroupBy.apply operated on the grouping columns. This behavior is deprecated, and in a future version of pandas the grouping columns will be excluded from the operation. Either pass `include_groups=False` to exclude the groupings or explicitly select the grouping columns after groupby to silence this warning.\n",
      "  return df.groupby('label').apply(lambda x: x.sample(n=min(n, len(x)))).reset_index(drop=True)\n",
      "/var/folders/kn/l92bw5_d4d55n08j6f5cb7f80000gp/T/ipykernel_90115/4122713724.py:6: DeprecationWarning: DataFrameGroupBy.apply operated on the grouping columns. This behavior is deprecated, and in a future version of pandas the grouping columns will be excluded from the operation. Either pass `include_groups=False` to exclude the groupings or explicitly select the grouping columns after groupby to silence this warning.\n",
      "  return df.groupby('label').apply(lambda x: x.sample(n=min(n, len(x)))).reset_index(drop=True)\n",
      "/var/folders/kn/l92bw5_d4d55n08j6f5cb7f80000gp/T/ipykernel_90115/4122713724.py:6: DeprecationWarning: DataFrameGroupBy.apply operated on the grouping columns. This behavior is deprecated, and in a future version of pandas the grouping columns will be excluded from the operation. Either pass `include_groups=False` to exclude the groupings or explicitly select the grouping columns after groupby to silence this warning.\n",
      "  return df.groupby('label').apply(lambda x: x.sample(n=min(n, len(x)))).reset_index(drop=True)\n",
      "/var/folders/kn/l92bw5_d4d55n08j6f5cb7f80000gp/T/ipykernel_90115/4122713724.py:6: DeprecationWarning: DataFrameGroupBy.apply operated on the grouping columns. This behavior is deprecated, and in a future version of pandas the grouping columns will be excluded from the operation. Either pass `include_groups=False` to exclude the groupings or explicitly select the grouping columns after groupby to silence this warning.\n",
      "  return df.groupby('label').apply(lambda x: x.sample(n=min(n, len(x)))).reset_index(drop=True)\n",
      "/var/folders/kn/l92bw5_d4d55n08j6f5cb7f80000gp/T/ipykernel_90115/4122713724.py:6: DeprecationWarning: DataFrameGroupBy.apply operated on the grouping columns. This behavior is deprecated, and in a future version of pandas the grouping columns will be excluded from the operation. Either pass `include_groups=False` to exclude the groupings or explicitly select the grouping columns after groupby to silence this warning.\n",
      "  return df.groupby('label').apply(lambda x: x.sample(n=min(n, len(x)))).reset_index(drop=True)\n",
      "/var/folders/kn/l92bw5_d4d55n08j6f5cb7f80000gp/T/ipykernel_90115/4122713724.py:6: DeprecationWarning: DataFrameGroupBy.apply operated on the grouping columns. This behavior is deprecated, and in a future version of pandas the grouping columns will be excluded from the operation. Either pass `include_groups=False` to exclude the groupings or explicitly select the grouping columns after groupby to silence this warning.\n",
      "  return df.groupby('label').apply(lambda x: x.sample(n=min(n, len(x)))).reset_index(drop=True)\n",
      "/var/folders/kn/l92bw5_d4d55n08j6f5cb7f80000gp/T/ipykernel_90115/4122713724.py:6: DeprecationWarning: DataFrameGroupBy.apply operated on the grouping columns. This behavior is deprecated, and in a future version of pandas the grouping columns will be excluded from the operation. Either pass `include_groups=False` to exclude the groupings or explicitly select the grouping columns after groupby to silence this warning.\n",
      "  return df.groupby('label').apply(lambda x: x.sample(n=min(n, len(x)))).reset_index(drop=True)\n",
      "/var/folders/kn/l92bw5_d4d55n08j6f5cb7f80000gp/T/ipykernel_90115/4122713724.py:6: DeprecationWarning: DataFrameGroupBy.apply operated on the grouping columns. This behavior is deprecated, and in a future version of pandas the grouping columns will be excluded from the operation. Either pass `include_groups=False` to exclude the groupings or explicitly select the grouping columns after groupby to silence this warning.\n",
      "  return df.groupby('label').apply(lambda x: x.sample(n=min(n, len(x)))).reset_index(drop=True)\n",
      "/var/folders/kn/l92bw5_d4d55n08j6f5cb7f80000gp/T/ipykernel_90115/4122713724.py:6: DeprecationWarning: DataFrameGroupBy.apply operated on the grouping columns. This behavior is deprecated, and in a future version of pandas the grouping columns will be excluded from the operation. Either pass `include_groups=False` to exclude the groupings or explicitly select the grouping columns after groupby to silence this warning.\n",
      "  return df.groupby('label').apply(lambda x: x.sample(n=min(n, len(x)))).reset_index(drop=True)\n",
      "/var/folders/kn/l92bw5_d4d55n08j6f5cb7f80000gp/T/ipykernel_90115/4122713724.py:6: DeprecationWarning: DataFrameGroupBy.apply operated on the grouping columns. This behavior is deprecated, and in a future version of pandas the grouping columns will be excluded from the operation. Either pass `include_groups=False` to exclude the groupings or explicitly select the grouping columns after groupby to silence this warning.\n",
      "  return df.groupby('label').apply(lambda x: x.sample(n=min(n, len(x)))).reset_index(drop=True)\n",
      "/var/folders/kn/l92bw5_d4d55n08j6f5cb7f80000gp/T/ipykernel_90115/4122713724.py:6: DeprecationWarning: DataFrameGroupBy.apply operated on the grouping columns. This behavior is deprecated, and in a future version of pandas the grouping columns will be excluded from the operation. Either pass `include_groups=False` to exclude the groupings or explicitly select the grouping columns after groupby to silence this warning.\n",
      "  return df.groupby('label').apply(lambda x: x.sample(n=min(n, len(x)))).reset_index(drop=True)\n",
      "/var/folders/kn/l92bw5_d4d55n08j6f5cb7f80000gp/T/ipykernel_90115/4122713724.py:6: DeprecationWarning: DataFrameGroupBy.apply operated on the grouping columns. This behavior is deprecated, and in a future version of pandas the grouping columns will be excluded from the operation. Either pass `include_groups=False` to exclude the groupings or explicitly select the grouping columns after groupby to silence this warning.\n",
      "  return df.groupby('label').apply(lambda x: x.sample(n=min(n, len(x)))).reset_index(drop=True)\n",
      "/var/folders/kn/l92bw5_d4d55n08j6f5cb7f80000gp/T/ipykernel_90115/4122713724.py:6: DeprecationWarning: DataFrameGroupBy.apply operated on the grouping columns. This behavior is deprecated, and in a future version of pandas the grouping columns will be excluded from the operation. Either pass `include_groups=False` to exclude the groupings or explicitly select the grouping columns after groupby to silence this warning.\n",
      "  return df.groupby('label').apply(lambda x: x.sample(n=min(n, len(x)))).reset_index(drop=True)\n",
      "/var/folders/kn/l92bw5_d4d55n08j6f5cb7f80000gp/T/ipykernel_90115/4122713724.py:6: DeprecationWarning: DataFrameGroupBy.apply operated on the grouping columns. This behavior is deprecated, and in a future version of pandas the grouping columns will be excluded from the operation. Either pass `include_groups=False` to exclude the groupings or explicitly select the grouping columns after groupby to silence this warning.\n",
      "  return df.groupby('label').apply(lambda x: x.sample(n=min(n, len(x)))).reset_index(drop=True)\n",
      "/var/folders/kn/l92bw5_d4d55n08j6f5cb7f80000gp/T/ipykernel_90115/4122713724.py:6: DeprecationWarning: DataFrameGroupBy.apply operated on the grouping columns. This behavior is deprecated, and in a future version of pandas the grouping columns will be excluded from the operation. Either pass `include_groups=False` to exclude the groupings or explicitly select the grouping columns after groupby to silence this warning.\n",
      "  return df.groupby('label').apply(lambda x: x.sample(n=min(n, len(x)))).reset_index(drop=True)\n",
      "/var/folders/kn/l92bw5_d4d55n08j6f5cb7f80000gp/T/ipykernel_90115/4122713724.py:6: DeprecationWarning: DataFrameGroupBy.apply operated on the grouping columns. This behavior is deprecated, and in a future version of pandas the grouping columns will be excluded from the operation. Either pass `include_groups=False` to exclude the groupings or explicitly select the grouping columns after groupby to silence this warning.\n",
      "  return df.groupby('label').apply(lambda x: x.sample(n=min(n, len(x)))).reset_index(drop=True)\n",
      "/var/folders/kn/l92bw5_d4d55n08j6f5cb7f80000gp/T/ipykernel_90115/4122713724.py:6: DeprecationWarning: DataFrameGroupBy.apply operated on the grouping columns. This behavior is deprecated, and in a future version of pandas the grouping columns will be excluded from the operation. Either pass `include_groups=False` to exclude the groupings or explicitly select the grouping columns after groupby to silence this warning.\n",
      "  return df.groupby('label').apply(lambda x: x.sample(n=min(n, len(x)))).reset_index(drop=True)\n",
      "/var/folders/kn/l92bw5_d4d55n08j6f5cb7f80000gp/T/ipykernel_90115/4122713724.py:6: DeprecationWarning: DataFrameGroupBy.apply operated on the grouping columns. This behavior is deprecated, and in a future version of pandas the grouping columns will be excluded from the operation. Either pass `include_groups=False` to exclude the groupings or explicitly select the grouping columns after groupby to silence this warning.\n",
      "  return df.groupby('label').apply(lambda x: x.sample(n=min(n, len(x)))).reset_index(drop=True)\n",
      "/var/folders/kn/l92bw5_d4d55n08j6f5cb7f80000gp/T/ipykernel_90115/4122713724.py:6: DeprecationWarning: DataFrameGroupBy.apply operated on the grouping columns. This behavior is deprecated, and in a future version of pandas the grouping columns will be excluded from the operation. Either pass `include_groups=False` to exclude the groupings or explicitly select the grouping columns after groupby to silence this warning.\n",
      "  return df.groupby('label').apply(lambda x: x.sample(n=min(n, len(x)))).reset_index(drop=True)\n",
      "/var/folders/kn/l92bw5_d4d55n08j6f5cb7f80000gp/T/ipykernel_90115/4122713724.py:6: DeprecationWarning: DataFrameGroupBy.apply operated on the grouping columns. This behavior is deprecated, and in a future version of pandas the grouping columns will be excluded from the operation. Either pass `include_groups=False` to exclude the groupings or explicitly select the grouping columns after groupby to silence this warning.\n",
      "  return df.groupby('label').apply(lambda x: x.sample(n=min(n, len(x)))).reset_index(drop=True)\n",
      "/var/folders/kn/l92bw5_d4d55n08j6f5cb7f80000gp/T/ipykernel_90115/4122713724.py:6: DeprecationWarning: DataFrameGroupBy.apply operated on the grouping columns. This behavior is deprecated, and in a future version of pandas the grouping columns will be excluded from the operation. Either pass `include_groups=False` to exclude the groupings or explicitly select the grouping columns after groupby to silence this warning.\n",
      "  return df.groupby('label').apply(lambda x: x.sample(n=min(n, len(x)))).reset_index(drop=True)\n"
     ]
    }
   ],
   "source": [
    "for ver in range(1, 6):\n",
    "  os.makedirs(f'datasets/TREC/sampled_subsets/ver{ver}', exist_ok=True)\n",
    "\n",
    "  trec_5_subset = sample_subset(trec_train_df, 5)\n",
    "  trec_5_subset.to_csv(f'datasets/TREC/sampled_subsets/ver{ver}/trec_5_subset.csv', index=False)\n",
    "  trec_10_subset = sample_subset(trec_train_df, 10)\n",
    "  trec_10_subset.to_csv(f'datasets/TREC/sampled_subsets/ver{ver}/trec_10_subset.csv', index=False)\n",
    "  trec_20_subset = sample_subset(trec_train_df, 20)\n",
    "  trec_20_subset.to_csv(f'datasets/TREC/sampled_subsets/ver{ver}/trec_20_subset.csv', index=False)\n",
    "  trec_50_subset = sample_subset(trec_train_df, 50)\n",
    "  trec_50_subset.to_csv(f'datasets/TREC/sampled_subsets/ver{ver}/trec_50_subset.csv', index=False)\n",
    "  trec_100_subset = sample_subset(trec_train_df, 100)\n",
    "  trec_100_subset.to_csv(f'datasets/TREC/sampled_subsets/ver{ver}/trec_100_subset.csv', index=False)"
   ]
  },
  {
   "cell_type": "markdown",
   "metadata": {
    "id": "Cs0bp72dIcQ_"
   },
   "source": [
    "## Push to Github"
   ]
  },
  {
   "cell_type": "code",
   "execution_count": 15,
   "metadata": {
    "colab": {
     "base_uri": "https://localhost:8080/"
    },
    "id": "npkqdPT1GiD1",
    "outputId": "7dd804e9-5957-4a28-f8aa-c6646d835117"
   },
   "outputs": [
    {
     "name": "stdout",
     "output_type": "stream",
     "text": [
      "Cloning into 'NLPProject2024'...\n",
      "remote: Enumerating objects: 7, done.\u001b[K\n",
      "remote: Counting objects: 100% (7/7), done.\u001b[K\n",
      "remote: Compressing objects: 100% (7/7), done.\u001b[K\n",
      "remote: Total 7 (delta 0), reused 0 (delta 0), pack-reused 0\u001b[K\n",
      "Receiving objects: 100% (7/7), 152.86 KiB | 756.00 KiB/s, done.\n",
      "/content/NLPProject2024\n",
      "fatal: /content/datasets: '/content/datasets' is outside repository at '/content/NLPProject2024'\n",
      "fatal: /content/inputs: '/content/inputs' is outside repository at '/content/NLPProject2024'\n",
      "On branch main\n",
      "Your branch is up to date with 'origin/main'.\n",
      "\n",
      "Untracked files:\n",
      "  (use \"git add <file>...\" to include in what will be committed)\n",
      "\t\u001b[31mdatasets/\u001b[m\n",
      "\t\u001b[31minputs/\u001b[m\n",
      "\n",
      "nothing added to commit but untracked files present (use \"git add\" to track)\n",
      "Everything up-to-date\n"
     ]
    }
   ],
   "source": [
    "!git config --global user.email 'email'\n",
    "!git config --global user.name 'username'\n",
    "\n",
    "!git clone https://<USERNAME>:<TOKEN>@github.com/elephanti/NLPProject2024.git\n",
    "%cd NLPProject2024\n",
    "!cp -r /content/datasets /content/NLPProject2024/datasets\n",
    "!cp -r /content/inputs /content/NLPProject2024/inputs\n",
    "\n",
    "!git add datasets\n",
    "!git add inputs\n",
    "!git commit -m \"Add generated datasets\"\n",
    "!git push"
   ]
  }
 ],
 "metadata": {
  "colab": {
   "authorship_tag": "ABX9TyP39BR23X+4888dNHLXVzEI",
   "include_colab_link": true,
   "provenance": []
  },
  "kernelspec": {
   "display_name": "NLPProject2024",
   "language": "python",
   "name": "nlpproject2024"
  },
  "language_info": {
   "codemirror_mode": {
    "name": "ipython",
    "version": 3
   },
   "file_extension": ".py",
   "mimetype": "text/x-python",
   "name": "python",
   "nbconvert_exporter": "python",
   "pygments_lexer": "ipython3",
   "version": "3.9.19"
  }
 },
 "nbformat": 4,
 "nbformat_minor": 4
}
